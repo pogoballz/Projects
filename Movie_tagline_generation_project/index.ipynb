{
 "cells": [
  {
   "cell_type": "code",
   "execution_count": null,
   "metadata": {},
   "outputs": [],
   "source": [
    "#hide\n",
    "from DSAI_proj.extract import *\n",
    "from DSAI_proj.clean import *"
   ]
  },
  {
   "cell_type": "markdown",
   "metadata": {},
   "source": [
    "# CE1115 DSAI Project \n",
    "\n",
    "> Data Science Project to build a movie tagline predictor. "
   ]
  },
  {
   "cell_type": "markdown",
   "metadata": {},
   "source": [
    "## Project motivation and utility"
   ]
  },
  {
   "cell_type": "markdown",
   "metadata": {},
   "source": [
    "Ever found yourself staring at a certain movie tagline and wondering what on earth the directors were thinking about when they came up with it? Yes, we too. On the other hand, we've also often been on the other end of the spectrum, struggling to come up with creative titles for our projects or succinct one-liners to encapsulate our business pitches. Enter our movie tagline predictor, a model we have built which we hope will provide some enlightenment to the many lost souls described above. We believe that this model can be transferrable to other salient applications, such as the web-link summarization we often see accompanying our everyday Google searches. "
   ]
  },
  {
   "cell_type": "markdown",
   "metadata": {},
   "source": [
    "## Installation"
   ]
  },
  {
   "cell_type": "markdown",
   "metadata": {},
   "source": [
    "### Package install:\n",
    "Run the following command to install the package from PyPI or conda."
   ]
  },
  {
   "cell_type": "markdown",
   "metadata": {},
   "source": [
    "`pip install DSAI_proj`\n",
    "\n",
    "`conda install DSAI_proj`"
   ]
  },
  {
   "cell_type": "markdown",
   "metadata": {},
   "source": [
    "### Editable Install:\n",
    "1) Clone the repository locally and cd into it. \n",
    "\n",
    "2) Create a virtual/conda/pipenv environment first.\n",
    "\n",
    "3) Depending on which type of environment you are using, run one of the following commands:"
   ]
  },
  {
   "cell_type": "markdown",
   "metadata": {},
   "source": [
    "`pip install -e`\n",
    "\n",
    "`conda develop .`\n",
    "\n",
    "`pipenv install -e`"
   ]
  },
  {
   "cell_type": "markdown",
   "metadata": {},
   "source": [
    "## Data Extraction"
   ]
  },
  {
   "cell_type": "markdown",
   "metadata": {},
   "source": [
    "The main function in this package perform the following functions for data extraction via the TMDB API:\n",
    "- Multi-threaded download of movie information via the extract_dataset_threaded function."
   ]
  },
  {
   "cell_type": "markdown",
   "metadata": {},
   "source": [
    "## Exploratory Data Analysis & Visualization"
   ]
  },
  {
   "cell_type": "markdown",
   "metadata": {},
   "source": [
    "Now that we have our raw dataset to work with, we begin by looking at:\n",
    "- The different types of data present.\n",
    "- How they might be relevant to our task.\n",
    "- Their respective distributions and whether there might be class imbalances.\n",
    "- Missing data and other considerations to be had later during cleaning."
   ]
  },
  {
   "cell_type": "markdown",
   "metadata": {},
   "source": [
    "## Data Cleaning and Feature Engineering "
   ]
  },
  {
   "cell_type": "markdown",
   "metadata": {},
   "source": [
    "After the EDA step, we have generated insights from the data in terms of their distribution and relevance our overall task. The functions in this package perform the following functions to clean and feature engineer the raw data:\n",
    "- Drop columns which are irrelevant \n",
    "- For columns/features with missing data, how to replace missing data.\n",
    "- For columns/features with json objects, unpack the json objects into new columns.\n",
    "- For categorical features, ensure that they are categoized accordingly.\n",
    "- For continuous features, ensure that they are normalized and standardized.\n",
    "- Separate out examples with and without taglines.\n",
    "- Save the dataset into separate train, valid, test and tagless csv files."
   ]
  },
  {
   "cell_type": "markdown",
   "metadata": {},
   "source": [
    "## Modelling"
   ]
  },
  {
   "cell_type": "markdown",
   "metadata": {},
   "source": [
    "TO-DO!!!"
   ]
  },
  {
   "cell_type": "markdown",
   "metadata": {},
   "source": [
    "## Training and Evaluation"
   ]
  },
  {
   "cell_type": "markdown",
   "metadata": {},
   "source": [
    "TO-DO!!!"
   ]
  },
  {
   "cell_type": "markdown",
   "metadata": {},
   "source": [
    "## Results interpretation and recommendations"
   ]
  },
  {
   "cell_type": "markdown",
   "metadata": {},
   "source": [
    "TO-DO!!!"
   ]
  }
 ],
 "metadata": {
  "kernelspec": {
   "display_name": "DSAI-Project",
   "language": "python",
   "name": "dsai-project"
  }
 },
 "nbformat": 4,
 "nbformat_minor": 2
}
