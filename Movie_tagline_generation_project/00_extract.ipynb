{
 "cells": [
  {
   "cell_type": "code",
   "execution_count": null,
   "metadata": {},
   "outputs": [],
   "source": [
    "# default_exp extract"
   ]
  },
  {
   "cell_type": "markdown",
   "metadata": {},
   "source": [
    "# Data Extraction and Cleaning\n",
    "\n",
    "> The TMDB dataset is only accessible through an API. Hence, we will write a few functions to extract the dataset, perform some simple preprocessing before saving to csv files."
   ]
  },
  {
   "cell_type": "code",
   "execution_count": null,
   "metadata": {},
   "outputs": [],
   "source": [
    "#hide\n",
    "from nbdev.showdoc import *\n",
    "from fastcore.test import *"
   ]
  },
  {
   "cell_type": "markdown",
   "metadata": {},
   "source": [
    "We first extract the dataset by accessing the TMDB API. Since not all requests will be successful, a larger than desired dataset size value should be used to return an eventual dataset size of roughly the same magnitude. "
   ]
  },
  {
   "cell_type": "code",
   "execution_count": null,
   "metadata": {},
   "outputs": [],
   "source": [
    "#exporti\n",
    "\n",
    "from pandas import DataFrame\n",
    "import os\n",
    "import concurrent\n",
    "import requests\n",
    "import pandas as pd\n",
    "\n",
    "def extract_dataset(api_key: str, n: int):\n",
    "    req_url = f\"https://api.themoviedb.org/3/movie/{n}?api_key={api_key}&language=en-US\"\n",
    "    response = requests.get(req_url)\n",
    "    if response.status_code == 200:\n",
    "        array = response.json()\n",
    "        return array\n",
    "    return\n",
    "\n",
    "def save_to_csv(df: DataFrame,\n",
    "                save_path: str,\n",
    "                fname: str):\n",
    "    df.to_csv(os.path.join(save_path, fname))\n",
    "    return"
   ]
  },
  {
   "cell_type": "code",
   "execution_count": null,
   "metadata": {},
   "outputs": [],
   "source": [
    "#export\n",
    "\n",
    "def extract_dataset_threaded(api_key: str, \n",
    "                             max_ds_size: int, \n",
    "                             max_threads: int,\n",
    "                             save_path: str, \n",
    "                             fname: str) -> DataFrame:\n",
    "    \n",
    "    max_threads = max_threads if max_threads < max_ds_size else max_ds_size\n",
    "    with concurrent.futures.ThreadPoolExecutor(max_workers=max_threads) as executor:\n",
    "        movies = [ex for n in range(max_ds_size) if (ex := executor.submit(extract_dataset, api_key, n).result()) is not None]\n",
    "    movies = pd.DataFrame.from_records(movies)\n",
    "    save_to_csv(df=movies, save_path=save_path, fname=fname)\n",
    "    return movies"
   ]
  },
  {
   "cell_type": "markdown",
   "metadata": {},
   "source": [
    "Let's run the data extraction functions. "
   ]
  },
  {
   "cell_type": "code",
   "execution_count": null,
   "metadata": {},
   "outputs": [],
   "source": [
    "#hide\n",
    "api_key = \"785475a69770b7dc1af964feff948dd7\"\n",
    "pd.set_option('display.max_rows', None)\n",
    "pd.set_option('display.max_columns', 10)\n",
    "pd.set_option('display.width', None)"
   ]
  },
  {
   "cell_type": "code",
   "execution_count": null,
   "metadata": {},
   "outputs": [
    {
     "name": "stdout",
     "output_type": "stream",
     "text": [
      "Total number of examples downloaded is: 15\n"
     ]
    },
    {
     "data": {
      "text/html": [
       "<div>\n",
       "<style scoped>\n",
       "    .dataframe tbody tr th:only-of-type {\n",
       "        vertical-align: middle;\n",
       "    }\n",
       "\n",
       "    .dataframe tbody tr th {\n",
       "        vertical-align: top;\n",
       "    }\n",
       "\n",
       "    .dataframe thead th {\n",
       "        text-align: right;\n",
       "    }\n",
       "</style>\n",
       "<table border=\"1\" class=\"dataframe\">\n",
       "  <thead>\n",
       "    <tr style=\"text-align: right;\">\n",
       "      <th></th>\n",
       "      <th>adult</th>\n",
       "      <th>backdrop_path</th>\n",
       "      <th>belongs_to_collection</th>\n",
       "      <th>budget</th>\n",
       "      <th>genres</th>\n",
       "      <th>...</th>\n",
       "      <th>tagline</th>\n",
       "      <th>title</th>\n",
       "      <th>video</th>\n",
       "      <th>vote_average</th>\n",
       "      <th>vote_count</th>\n",
       "    </tr>\n",
       "  </thead>\n",
       "  <tbody>\n",
       "    <tr>\n",
       "      <th>0</th>\n",
       "      <td>False</td>\n",
       "      <td>/hQ4pYsIbP22TMXOUdSfC2mjWrO0.jpg</td>\n",
       "      <td>None</td>\n",
       "      <td>0</td>\n",
       "      <td>[{'id': 18, 'name': 'Drama'}, {'id': 80, 'name...</td>\n",
       "      <td>...</td>\n",
       "      <td></td>\n",
       "      <td>Ariel</td>\n",
       "      <td>False</td>\n",
       "      <td>6.8</td>\n",
       "      <td>128</td>\n",
       "    </tr>\n",
       "    <tr>\n",
       "      <th>1</th>\n",
       "      <td>False</td>\n",
       "      <td>/l94l89eMmFKh7na2a1u5q67VgNx.jpg</td>\n",
       "      <td>None</td>\n",
       "      <td>0</td>\n",
       "      <td>[{'id': 18, 'name': 'Drama'}, {'id': 35, 'name...</td>\n",
       "      <td>...</td>\n",
       "      <td></td>\n",
       "      <td>Shadows in Paradise</td>\n",
       "      <td>False</td>\n",
       "      <td>7.2</td>\n",
       "      <td>126</td>\n",
       "    </tr>\n",
       "    <tr>\n",
       "      <th>2</th>\n",
       "      <td>False</td>\n",
       "      <td>/u0zMKKpEdDWpOKmFW2sLbKKICJH.jpg</td>\n",
       "      <td>None</td>\n",
       "      <td>4000000</td>\n",
       "      <td>[{'id': 80, 'name': 'Crime'}, {'id': 35, 'name...</td>\n",
       "      <td>...</td>\n",
       "      <td>Twelve outrageous guests. Four scandalous requ...</td>\n",
       "      <td>Four Rooms</td>\n",
       "      <td>False</td>\n",
       "      <td>5.7</td>\n",
       "      <td>1910</td>\n",
       "    </tr>\n",
       "    <tr>\n",
       "      <th>3</th>\n",
       "      <td>False</td>\n",
       "      <td>/5aXp2s4l6g5PcMMesIj63mx8hmJ.jpg</td>\n",
       "      <td>None</td>\n",
       "      <td>21000000</td>\n",
       "      <td>[{'id': 28, 'name': 'Action'}, {'id': 53, 'nam...</td>\n",
       "      <td>...</td>\n",
       "      <td>Don't move. Don't whisper. Don't even breathe.</td>\n",
       "      <td>Judgment Night</td>\n",
       "      <td>False</td>\n",
       "      <td>6.5</td>\n",
       "      <td>184</td>\n",
       "    </tr>\n",
       "    <tr>\n",
       "      <th>4</th>\n",
       "      <td>False</td>\n",
       "      <td>None</td>\n",
       "      <td>None</td>\n",
       "      <td>42000</td>\n",
       "      <td>[{'id': 99, 'name': 'Documentary'}]</td>\n",
       "      <td>...</td>\n",
       "      <td>A Megacities remix.</td>\n",
       "      <td>Life in Loops (A Megacities RMX)</td>\n",
       "      <td>False</td>\n",
       "      <td>7.4</td>\n",
       "      <td>14</td>\n",
       "    </tr>\n",
       "  </tbody>\n",
       "</table>\n",
       "<p>5 rows × 25 columns</p>\n",
       "</div>"
      ],
      "text/plain": [
       "   adult                     backdrop_path belongs_to_collection    budget  \\\n",
       "0  False  /hQ4pYsIbP22TMXOUdSfC2mjWrO0.jpg                  None         0   \n",
       "1  False  /l94l89eMmFKh7na2a1u5q67VgNx.jpg                  None         0   \n",
       "2  False  /u0zMKKpEdDWpOKmFW2sLbKKICJH.jpg                  None   4000000   \n",
       "3  False  /5aXp2s4l6g5PcMMesIj63mx8hmJ.jpg                  None  21000000   \n",
       "4  False                              None                  None     42000   \n",
       "\n",
       "                                              genres  ...  \\\n",
       "0  [{'id': 18, 'name': 'Drama'}, {'id': 80, 'name...  ...   \n",
       "1  [{'id': 18, 'name': 'Drama'}, {'id': 35, 'name...  ...   \n",
       "2  [{'id': 80, 'name': 'Crime'}, {'id': 35, 'name...  ...   \n",
       "3  [{'id': 28, 'name': 'Action'}, {'id': 53, 'nam...  ...   \n",
       "4                [{'id': 99, 'name': 'Documentary'}]  ...   \n",
       "\n",
       "                                             tagline  \\\n",
       "0                                                      \n",
       "1                                                      \n",
       "2  Twelve outrageous guests. Four scandalous requ...   \n",
       "3     Don't move. Don't whisper. Don't even breathe.   \n",
       "4                                A Megacities remix.   \n",
       "\n",
       "                              title  video vote_average vote_count  \n",
       "0                             Ariel  False          6.8        128  \n",
       "1               Shadows in Paradise  False          7.2        126  \n",
       "2                        Four Rooms  False          5.7       1910  \n",
       "3                    Judgment Night  False          6.5        184  \n",
       "4  Life in Loops (A Megacities RMX)  False          7.4         14  \n",
       "\n",
       "[5 rows x 25 columns]"
      ]
     },
     "execution_count": null,
     "metadata": {},
     "output_type": "execute_result"
    }
   ],
   "source": [
    "# api_key = \"your_api_key_here\"\n",
    "max_ds_size = 20\n",
    "max_threads = 8\n",
    "movies = extract_dataset_threaded(api_key=api_key,\n",
    "                                  max_ds_size=max_ds_size,\n",
    "                                  max_threads=max_threads,\n",
    "                                  save_path='.',\n",
    "                                  fname='raw_data.csv')\n",
    "print(f\"Total number of examples downloaded is: {len(movies)}\")\n",
    "movies.head()"
   ]
  },
  {
   "cell_type": "markdown",
   "metadata": {},
   "source": [
    "We have extracted the raw data into a dataframe for easy accessibility & saved it into a csv file for later. Now, we shall move on to the EDA and visualization step to see what insights we can draw from the data.  "
   ]
  }
 ],
 "metadata": {
  "kernelspec": {
   "display_name": "env",
   "language": "python",
   "name": "env"
  },
  "language_info": {
   "codemirror_mode": {
    "name": "ipython",
    "version": 3
   },
   "file_extension": ".py",
   "mimetype": "text/x-python",
   "name": "python",
   "nbconvert_exporter": "python",
   "pygments_lexer": "ipython3",
   "version": "3.8.8"
  }
 },
 "nbformat": 4,
 "nbformat_minor": 2
}
